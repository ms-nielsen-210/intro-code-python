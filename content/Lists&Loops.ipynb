{
 "cells": [
  {
   "cell_type": "code",
   "execution_count": 2,
   "metadata": {},
   "outputs": [
    {
     "name": "stdout",
     "output_type": "stream",
     "text": [
      "Hello World!\n"
     ]
    },
    {
     "ename": "ModuleNotFoundError",
     "evalue": "No module named 'pyodide_kernelS'",
     "output_type": "error",
     "traceback": [
      "\u001b[0;31m---------------------------------------------------------------------------\u001b[0m",
      "\u001b[0;31mModuleNotFoundError\u001b[0m                       Traceback (most recent call last)",
      "Cell \u001b[0;32mIn[2], line 2\u001b[0m\n\u001b[1;32m      1\u001b[0m \u001b[38;5;28mprint\u001b[39m(\u001b[38;5;124m\"\u001b[39m\u001b[38;5;124mHello World!\u001b[39m\u001b[38;5;124m\"\u001b[39m)\n\u001b[0;32m----> 2\u001b[0m \u001b[38;5;28;01mimport\u001b[39;00m\u001b[38;5;250m \u001b[39m\u001b[38;5;21;01mpyodide_kernelS\u001b[39;00m\n\u001b[1;32m      3\u001b[0m pyodide_kernel\u001b[38;5;241m.\u001b[39m__version__\n",
      "\u001b[0;31mModuleNotFoundError\u001b[0m: No module named 'pyodide_kernelS'"
     ]
    }
   ],
   "source": [
    "print(\"Hello World!\")\n",
    "import pyodide_kernelS\n",
    "pyodide_kernel.__version__"
   ]
  },
  {
   "cell_type": "markdown",
   "metadata": {},
   "source": [
    "# Lists & Loops"
   ]
  },
  {
   "cell_type": "markdown",
   "metadata": {},
   "source": [
    "## Lists\n",
    "A heterogenous, mutable data type that stores an ordered sequence of things we’ll call items or elements. \n",
    "\n",
    "list = [item, item, item]"
   ]
  },
  {
   "cell_type": "code",
   "execution_count": 1,
   "metadata": {},
   "outputs": [
    {
     "name": "stdout",
     "output_type": "stream",
     "text": [
      "['orange', 'red', 'yellow']\n"
     ]
    }
   ],
   "source": [
    "color_list = ['orange', 'red', 'yellow']\n",
    "print(color_list)"
   ]
  },
  {
   "cell_type": "markdown",
   "metadata": {},
   "source": [
    "In python lists....\n",
    "* items are ordered, changeable, and allow duplicate values.\n",
    "* items are indexed: the first item has index [0], the second item has index [1] etc."
   ]
  },
  {
   "cell_type": "markdown",
   "metadata": {},
   "source": [
    "We access list items using the syntax: <br>\n",
    ">list_name[index]"
   ]
  },
  {
   "cell_type": "code",
   "execution_count": 6,
   "metadata": {},
   "outputs": [
    {
     "name": "stdout",
     "output_type": "stream",
     "text": [
      "Item at index 0: orange\n",
      "Item at index 1: red\n",
      "Item at index -1: yellow\n"
     ]
    }
   ],
   "source": [
    "print(f\"Item at index 0: {color_list[0]}\")\n",
    "print(f\"Item at index 1: {color_list[1]}\")\n",
    "print(f\"Item at index -1: {color_list[-1]}\")"
   ]
  },
  {
   "cell_type": "markdown",
   "metadata": {},
   "source": [
    "### More lists!"
   ]
  },
  {
   "cell_type": "code",
   "execution_count": 7,
   "metadata": {},
   "outputs": [],
   "source": [
    "empty = []\n",
    "\n",
    "cheese = [\"Chedar\", \"Edam\", \"Gouda\"]\n",
    "\n",
    "four = 4\n",
    "numbers = [1, \"two\", 3, four]\n"
   ]
  },
  {
   "cell_type": "markdown",
   "metadata": {},
   "source": [
    "#### Searching in lists"
   ]
  },
  {
   "cell_type": "code",
   "execution_count": 12,
   "metadata": {},
   "outputs": [
    {
     "data": {
      "text/plain": [
       "True"
      ]
     },
     "execution_count": 12,
     "metadata": {},
     "output_type": "execute_result"
    }
   ],
   "source": [
    "4 in numbers"
   ]
  },
  {
   "cell_type": "code",
   "execution_count": 10,
   "metadata": {},
   "outputs": [
    {
     "data": {
      "text/plain": [
       "False"
      ]
     },
     "execution_count": 10,
     "metadata": {},
     "output_type": "execute_result"
    }
   ],
   "source": [
    "4 in empty"
   ]
  },
  {
   "cell_type": "markdown",
   "metadata": {},
   "source": [
    "#### Mutating lists"
   ]
  },
  {
   "cell_type": "code",
   "execution_count": 21,
   "metadata": {},
   "outputs": [
    {
     "name": "stdout",
     "output_type": "stream",
     "text": [
      "['Chedar', 'Mozzarella', 'Brie', 'American']\n"
     ]
    }
   ],
   "source": [
    "#change an item\n",
    "cheese[1] = \"Mozzarella\"\n",
    "#add an item\n",
    "cheese.append(\"American\")\n",
    "#insert an item with insert(index, item)\n",
    "cheese.insert(2, \"Brie\")\n",
    "print(cheese)"
   ]
  },
  {
   "cell_type": "code",
   "execution_count": 22,
   "metadata": {},
   "outputs": [
    {
     "name": "stdout",
     "output_type": "stream",
     "text": [
      "['Chedar', 'Mozzarella']\n"
     ]
    }
   ],
   "source": [
    "cheese.pop()\n",
    "cheese.remove(\"Brie\")\n",
    "print(cheese)"
   ]
  },
  {
   "cell_type": "markdown",
   "metadata": {},
   "source": [
    "## For Loops"
   ]
  },
  {
   "cell_type": "markdown",
   "metadata": {},
   "source": [
    "We have learned about while loops, which run an unknown number of times until a condition is broken. Here is an example:"
   ]
  },
  {
   "cell_type": "code",
   "execution_count": 23,
   "metadata": {},
   "outputs": [
    {
     "name": "stdout",
     "output_type": "stream",
     "text": [
      "[]\n",
      "['something', 'stop']\n"
     ]
    }
   ],
   "source": [
    "print(empty)\n",
    "while 'stop' not in empty:\n",
    "    user_input = input(\"Add something to the list:\")\n",
    "    empty.append(user_input)\n",
    "\n",
    "print(empty)"
   ]
  },
  {
   "cell_type": "markdown",
   "metadata": {},
   "source": [
    "We can use for loops to run code a more predictable number of times:"
   ]
  },
  {
   "cell_type": "code",
   "execution_count": 24,
   "metadata": {},
   "outputs": [
    {
     "name": "stdout",
     "output_type": "stream",
     "text": [
      "Hello time 0\n",
      "Hello time 1\n",
      "Hello time 2\n",
      "Hello time 3\n",
      "Hello time 4\n"
     ]
    }
   ],
   "source": [
    "for time in range(5):\n",
    "    print(f\"Hello time {time}\")"
   ]
  },
  {
   "cell_type": "markdown",
   "metadata": {},
   "source": [
    "Using for loops with lists can be helpful to traverse them"
   ]
  },
  {
   "cell_type": "code",
   "execution_count": 27,
   "metadata": {},
   "outputs": [
    {
     "name": "stdout",
     "output_type": "stream",
     "text": [
      "the number is 1 and it's type is <class 'int'>\n",
      "the number is two and it's type is <class 'str'>\n",
      "the number is 3 and it's type is <class 'int'>\n",
      "the number is 4 and it's type is <class 'int'>\n"
     ]
    }
   ],
   "source": [
    "for item in numbers:\n",
    "    print(f\"the number is {item} and it's type is {type(item)}\")"
   ]
  },
  {
   "cell_type": "code",
   "execution_count": 32,
   "metadata": {},
   "outputs": [
    {
     "name": "stdout",
     "output_type": "stream",
     "text": [
      "0: Chedar\n",
      "1: Mozzarella\n"
     ]
    }
   ],
   "source": [
    "for index, element in enumerate(cheese):\n",
    "\tprint(f\"{index}: {element}\")\n"
   ]
  },
  {
   "cell_type": "markdown",
   "metadata": {},
   "source": []
  }
 ],
 "metadata": {
  "kernelspec": {
   "display_name": "Python 3",
   "language": "python",
   "name": "python3"
  },
  "language_info": {
   "codemirror_mode": {
    "name": "ipython",
    "version": 3
   },
   "file_extension": ".py",
   "mimetype": "text/x-python",
   "name": "python",
   "nbconvert_exporter": "python",
   "pygments_lexer": "ipython3",
   "version": "3.13.2"
  }
 },
 "nbformat": 4,
 "nbformat_minor": 2
}
